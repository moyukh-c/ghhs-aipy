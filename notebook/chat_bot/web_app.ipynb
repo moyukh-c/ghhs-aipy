{
 "cells": [
  {
   "metadata": {},
   "cell_type": "markdown",
   "source": "## Web Application using Streamlit",
   "id": "ca3955788cdc9b49"
  },
  {
   "metadata": {},
   "cell_type": "markdown",
   "source": [
    "### Python vs Shell command\n",
    "\n",
    "Shell command:\n",
    "```\n",
    "!pip install -q streamlit\n",
    "```\n",
    "\n",
    "Python command:\n",
    "```\n",
    "import streamlit as st\n",
    "a = b + c\n",
    "```"
   ],
   "id": "7c0c95de5b398a9e"
  },
  {
   "metadata": {},
   "cell_type": "code",
   "source": [
    "# More shell commands run in terminal\n",
    "!pwd\n",
    "!mkdir -p tmp\n",
    "!ls tmp\n",
    "!date"
   ],
   "id": "8bd00c2c586782cb",
   "outputs": [],
   "execution_count": null
  },
  {
   "metadata": {},
   "cell_type": "markdown",
   "source": [
    "### Streamlit starts a web application\n",
    "\n",
    "It is a continuous running process, required to be run as a shell command"
   ],
   "id": "e666b3365210ad87"
  },
  {
   "metadata": {},
   "cell_type": "code",
   "source": "!pip install -q streamlit",
   "id": "13d03723649f9ba6",
   "outputs": [],
   "execution_count": null
  },
  {
   "metadata": {},
   "cell_type": "markdown",
   "source": "Write the following code in a .py file, this will be run as a shell command",
   "id": "feda2e6793feae91"
  },
  {
   "metadata": {},
   "cell_type": "code",
   "source": [
    "%%writefile tmp/app.py\n",
    "import streamlit as st\n",
    "\n",
    "# Application Square The Number\n",
    "st.header('Square The Number')\n",
    "number = st.text_input('Enter a number to be squared')\n",
    "if number.isdigit():\n",
    "    st.write(number, 'squared is', int(number) ** 2)\n",
    "elif number == \"\":\n",
    "    pass\n",
    "else:\n",
    "    st.write(\"You entered an invalid number\")    "
   ],
   "id": "f07f16e5ae53ba14",
   "outputs": [],
   "execution_count": null
  },
  {
   "metadata": {},
   "cell_type": "code",
   "source": [
    "!pwd\n",
    "!ls tmp"
   ],
   "id": "9b27bc01c77e0b68",
   "outputs": [],
   "execution_count": null
  },
  {
   "metadata": {},
   "cell_type": "code",
   "source": "!streamlit run tmp/app.py ",
   "id": "54f721556ff5d77c",
   "outputs": [],
   "execution_count": null
  },
  {
   "metadata": {},
   "cell_type": "markdown",
   "source": [
    "#### Google Colab environment\n",
    "Due to security reason it does not allow accessing http://localhost:8501 <br>\n",
    "Use localtunnel to access the web application <br>\n",
    "reference: https://github.com/localtunnel/localtunnel <br>\n",
    "It requires running below terminal commands"
   ],
   "id": "ca41a0393c61b13c"
  },
  {
   "metadata": {},
   "cell_type": "code",
   "source": "!npm install localtunnel",
   "id": "540ba10997a8f7b1",
   "outputs": [],
   "execution_count": null
  },
  {
   "metadata": {},
   "cell_type": "code",
   "source": [
    "# This is local tunnel password, use this when prompted\n",
    "!curl https://loca.lt/mytunnelpassword "
   ],
   "id": "3185e66379647bd4",
   "outputs": [],
   "execution_count": null
  },
  {
   "metadata": {},
   "cell_type": "code",
   "source": "!streamlit run tmp/app.py &>tmp/logs.txt &",
   "id": "7f8d8e540a9ebd9f",
   "outputs": [],
   "execution_count": null
  },
  {
   "metadata": {},
   "cell_type": "code",
   "source": "!npx localtunnel --port 8501",
   "id": "e54cae7db3ef84fb",
   "outputs": [],
   "execution_count": null
  },
  {
   "metadata": {},
   "cell_type": "code",
   "source": "",
   "id": "8be9ac6b9dcb9c14",
   "outputs": [],
   "execution_count": null
  },
  {
   "metadata": {},
   "cell_type": "markdown",
   "source": "##### Extend the web application with text input",
   "id": "4412c8419a3fc19d"
  },
  {
   "metadata": {},
   "cell_type": "code",
   "source": [
    "%%writefile tmp/app.py\n",
    "import streamlit as st\n",
    "\n",
    "# Application Square The Number\n",
    "st.header('Square The Number')\n",
    "number = st.text_input('Enter a number to be squared')\n",
    "if number.isdigit():\n",
    "    st.write(number, 'squared is', int(number) ** 2)\n",
    "elif number == \"\":\n",
    "    pass\n",
    "else:\n",
    "    st.write(\"You entered an invalid number\")\n",
    "\n",
    "# Application: Capitalize The Sentence\n",
    "st.header('Capitalize The Sentence')\n",
    "sentence = st.text_input('Enter a small sentence to be capitalised')\n",
    "if sentence:\n",
    "    st.write(sentence.title())\n"
   ],
   "id": "46a818f12947dbde",
   "outputs": [],
   "execution_count": null
  }
 ],
 "metadata": {
  "kernelspec": {
   "display_name": "Python 3",
   "language": "python",
   "name": "python3"
  },
  "language_info": {
   "codemirror_mode": {
    "name": "ipython",
    "version": 2
   },
   "file_extension": ".py",
   "mimetype": "text/x-python",
   "name": "python",
   "nbconvert_exporter": "python",
   "pygments_lexer": "ipython2",
   "version": "2.7.6"
  }
 },
 "nbformat": 4,
 "nbformat_minor": 5
}
