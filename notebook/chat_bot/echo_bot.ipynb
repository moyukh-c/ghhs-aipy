{
 "cells": [
  {
   "metadata": {},
   "cell_type": "markdown",
   "source": "# Echo Bot using Streamlit",
   "id": "88b7500c71bf00f9"
  },
  {
   "metadata": {},
   "cell_type": "markdown",
   "source": [
    "### Streamlit starts a web application\n",
    "\n",
    "It is a continuous running process, required to be run as a shell command"
   ],
   "id": "40a17301e5fadba4"
  },
  {
   "metadata": {},
   "cell_type": "code",
   "source": "!pip install -q streamlit",
   "id": "c39070e85fc6d2cd",
   "outputs": [],
   "execution_count": null
  },
  {
   "metadata": {},
   "cell_type": "markdown",
   "source": "Write the following code in a .py file, this will be run as a shell command\n",
   "id": "c8d3f9d80f01f747"
  },
  {
   "metadata": {},
   "cell_type": "code",
   "source": [
    "%%writefile tmp/echobot.py\n",
    "import streamlit as st\n",
    "\n",
    "st.title(\"Echo Bot\")\n",
    "\n",
    "# Create a list to hold chat history\n",
    "if \"messages\" not in st.session_state:\n",
    "    st.session_state.messages = [] \n",
    "    \n",
    "# Re-Play all messages from chat history\n",
    "for message in st.session_state.messages:\n",
    "    with st.chat_message(message[\"role\"]): \n",
    "        # this context sends the message with appropriate role User or Assistant\n",
    "        st.markdown(message[\"content\"])\n",
    "\n",
    "if prompt := st.chat_input(\"What is up?\"):\n",
    "    st.chat_message(\"user\").markdown(prompt) \n",
    "    st.session_state.messages.append({\"role\": \"user\", \"content\": prompt})\n",
    "\n",
    "    response = f\"Echo: {prompt}\"\n",
    "    with st.chat_message(\"assistant\"):\n",
    "        st.markdown(response)\n",
    "    st.session_state.messages.append({\"role\": \"assistant\", \"content\": response})"
   ],
   "id": "bb4f90140eb9023e",
   "outputs": [],
   "execution_count": null
  },
  {
   "cell_type": "code",
   "id": "initial_id",
   "metadata": {
    "collapsed": true
   },
   "source": [
    "# These are python Shell Commands\n",
    "!pwd\n",
    "!ls tmp"
   ],
   "outputs": [],
   "execution_count": null
  },
  {
   "metadata": {},
   "cell_type": "code",
   "source": "!streamlit run tmp/echobot.py",
   "id": "25239a46699c8e6e",
   "outputs": [],
   "execution_count": null
  },
  {
   "metadata": {},
   "cell_type": "markdown",
   "source": [
    "#### Google Colab environment\n",
    "Due to security reason it does not allow accessing http://localhost:8501 <br>\n",
    "Use localtunnel to access the web application <br>\n",
    "reference: https://github.com/localtunnel/localtunnel <br>\n",
    "It requires running below terminal commands"
   ],
   "id": "742d7e33c185a0ab"
  },
  {
   "metadata": {},
   "cell_type": "code",
   "source": "!npm install localtunnel",
   "id": "72cfd3b2e195280d",
   "outputs": [],
   "execution_count": null
  },
  {
   "metadata": {},
   "cell_type": "code",
   "source": [
    "# This is local tunnel password, use this when prompted\n",
    "!curl https://loca.lt/mytunnelpassword "
   ],
   "id": "2de2a409e1fb1ec6",
   "outputs": [],
   "execution_count": null
  },
  {
   "metadata": {},
   "cell_type": "code",
   "source": "!streamlit run tmp/echobot.py &>tmp/logs.txt &",
   "id": "b2679d3859b51f35",
   "outputs": [],
   "execution_count": null
  },
  {
   "metadata": {},
   "cell_type": "code",
   "source": "!npx localtunnel --port 8501",
   "id": "cf7c882d40c93be0",
   "outputs": [],
   "execution_count": null
  },
  {
   "metadata": {},
   "cell_type": "code",
   "source": "",
   "id": "b9acabbde22ef8b3",
   "outputs": [],
   "execution_count": null
  },
  {
   "metadata": {},
   "cell_type": "markdown",
   "source": [
    "##### Task 1: Change the icon of user and assistant\n",
    "Chat documentation: <br>\n",
    "https://docs.streamlit.io/develop/api-reference/chat/st.chat_message <br>\n",
    "Icons from google library:  <br>\n",
    "https://fonts.google.com/icons?icon.set=Material+Symbols&icon.style=Rounded <br>\n"
   ],
   "id": "b4aa08f264f866b4"
  },
  {
   "metadata": {},
   "cell_type": "code",
   "source": [
    "%%writefile tmp/echobot.py\n",
    "import streamlit as st\n",
    "\n",
    "st.title(\"Echo Bot\")\n",
    "\n",
    "# Create a list to hold chat history\n",
    "if \"messages\" not in st.session_state:\n",
    "    st.session_state.messages = [] \n",
    "    \n",
    "def replay_messages():\n",
    "    for message in st.session_state.messages:\n",
    "        if message[\"role\"] == \"user\":\n",
    "            with st.chat_message(message[\"role\"], avatar=\"🤬\"): \n",
    "                # this context sends the message with appropriate role User or Assistant\n",
    "                st.markdown(message[\"content\"])\n",
    "                \n",
    "        else:\n",
    "            with st.chat_message(message[\"role\"], avatar=\"🖥️\"): \n",
    "                st.markdown(message[\"content\"])\n",
    "\n",
    "if prompt := st.chat_input(\"What is up?\"):\n",
    "    st.session_state.messages.append({\"role\": \"user\", \"content\": prompt})\n",
    "    response = f\"Echo: {prompt}\"\n",
    "    st.session_state.messages.append({\"role\": \"assistant\", \"content\": response})\n",
    "    \n",
    "    replay_messages()\n",
    "    \n"
   ],
   "id": "23d0595475201515",
   "outputs": [],
   "execution_count": null
  },
  {
   "metadata": {},
   "cell_type": "code",
   "source": "!streamlit run tmp/echobot.py",
   "id": "5df80adc8a3a5e23",
   "outputs": [],
   "execution_count": null
  },
  {
   "metadata": {},
   "cell_type": "markdown",
   "source": [
    "##### Task 2: Create Mistral account and generate API key\n",
    "https://mistral.ai/ <br>\n",
    "https://auth.mistral.ai/ui/login <br>\n"
   ],
   "id": "992c38b8af7e4fb9"
  },
  {
   "metadata": {},
   "cell_type": "code",
   "source": "",
   "id": "681a2942d961085f",
   "outputs": [],
   "execution_count": null
  }
 ],
 "metadata": {
  "kernelspec": {
   "display_name": "Python 3",
   "language": "python",
   "name": "python3"
  },
  "language_info": {
   "codemirror_mode": {
    "name": "ipython",
    "version": 2
   },
   "file_extension": ".py",
   "mimetype": "text/x-python",
   "name": "python",
   "nbconvert_exporter": "python",
   "pygments_lexer": "ipython2",
   "version": "2.7.6"
  }
 },
 "nbformat": 4,
 "nbformat_minor": 5
}
