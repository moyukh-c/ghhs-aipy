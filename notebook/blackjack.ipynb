{
 "cells": [
  {
   "cell_type": "code",
   "source": [
    "import random"
   ],
   "metadata": {
    "id": "C9N5wGr3f6eM",
    "executionInfo": {
     "status": "ok",
     "timestamp": 1741233057567,
     "user_tz": 300,
     "elapsed": 30,
     "user": {
      "displayName": "Moyukh Chatterjee _ Student - GreenHopeHS",
      "userId": "03938706943562327970"
     }
    }
   },
   "id": "C9N5wGr3f6eM",
   "outputs": [],
   "execution_count": null
  },
  {
   "cell_type": "code",
   "source": [
    "def setup_card_deck():\n",
    "\n",
    "    suits = (\"♠\", \"♥\", \"♦\", \"♣\")\n",
    "    values = (\"A\", 2, 3, 4, 5, 6, 7, 8, 9, 10, \"J\", \"Q\", \"K\")\n",
    "\n",
    "    deck = []\n",
    "    for suit in suits:\n",
    "        for value in values:\n",
    "            deck.append((suit, value))\n",
    "\n",
    "    return deck"
   ],
   "metadata": {
    "id": "i9p1abq0f9YV",
    "executionInfo": {
     "status": "ok",
     "timestamp": 1741233057770,
     "user_tz": 300,
     "elapsed": 4,
     "user": {
      "displayName": "Moyukh Chatterjee _ Student - GreenHopeHS",
      "userId": "03938706943562327970"
     }
    }
   },
   "id": "i9p1abq0f9YV",
   "outputs": [],
   "execution_count": null
  },
  {
   "cell_type": "code",
   "source": "setup_card_deck()",
   "metadata": {
    "id": "Hp_y6NlUGNsd"
   },
   "id": "Hp_y6NlUGNsd",
   "outputs": [],
   "execution_count": null
  },
  {
   "cell_type": "code",
   "source": [
    "def draw_card(deck, hand):\n",
    "\n",
    "    number = random.randint(0, len(deck) - 1)\n",
    "    card = deck.pop(number)\n",
    "    hand.append(card)\n",
    "\n",
    "def draw_card_and_show(deck, hand):\n",
    "\n",
    "    number = random.randint(0, len(deck) - 1)\n",
    "    card = deck.pop(number)\n",
    "    hand.append(card)\n",
    "    print(hand)\n",
    "\n",
    "\n",
    "def initial_draw_dealer_player(deck):\n",
    "    player_hand = []\n",
    "    dealer_hand = []\n",
    "\n",
    "    draw_card(deck, player_hand)\n",
    "    draw_card(deck, player_hand)\n",
    "\n",
    "    print(f\"Player Cards: {player_hand}\")\n",
    "\n",
    "    draw_card(deck, dealer_hand)\n",
    "    print(f\"Dealer Cards: {dealer_hand}\")\n",
    "    draw_card(deck, dealer_hand)\n",
    "\n",
    "    return player_hand, dealer_hand\n"
   ],
   "metadata": {
    "id": "_euFdwWiiKl0",
    "executionInfo": {
     "status": "ok",
     "timestamp": 1741233058200,
     "user_tz": 300,
     "elapsed": 3,
     "user": {
      "displayName": "Moyukh Chatterjee _ Student - GreenHopeHS",
      "userId": "03938706943562327970"
     }
    }
   },
   "id": "_euFdwWiiKl0",
   "outputs": [],
   "execution_count": null
  },
  {
   "cell_type": "code",
   "source": "initial_draw_dealer_player(setup_card_deck())",
   "metadata": {
    "id": "PqOjCnIXLiJ1",
    "executionInfo": {
     "status": "ok",
     "timestamp": 1741233058430,
     "user_tz": 300,
     "elapsed": 4,
     "user": {
      "displayName": "Moyukh Chatterjee _ Student - GreenHopeHS",
      "userId": "03938706943562327970"
     }
    }
   },
   "id": "PqOjCnIXLiJ1",
   "outputs": [],
   "execution_count": null
  },
  {
   "cell_type": "code",
   "source": [
    "def calculate_hand_value(hand):\n",
    "    value = 0\n",
    "    for card in hand:\n",
    "        a, b = card\n",
    "        if b in [\"J\", \"Q\", \"K\"]:\n",
    "            value += 10\n",
    "        elif b == \"A\":\n",
    "            value += 11\n",
    "        else:\n",
    "            value += int(b)\n",
    "\n",
    "    return value"
   ],
   "metadata": {
    "id": "Ub1j0_Lahn3U",
    "executionInfo": {
     "status": "ok",
     "timestamp": 1741233058913,
     "user_tz": 300,
     "elapsed": 5,
     "user": {
      "displayName": "Moyukh Chatterjee _ Student - GreenHopeHS",
      "userId": "03938706943562327970"
     }
    }
   },
   "id": "Ub1j0_Lahn3U",
   "outputs": [],
   "execution_count": null
  },
  {
   "cell_type": "code",
   "source": [
    "\n",
    "def check_winner(dealer_hand, player_hand):\n",
    "    \"\"\"\n",
    "    calculate dealer hand value\n",
    "    calculate player hand value\n",
    "    compare\n",
    "    print/announce winner\n",
    "    return True/False game end\n",
    "    \"\"\"\n",
    "    dealer_value = calculate_hand_value(dealer_hand)\n",
    "    player_value = calculate_hand_value(player_hand)\n",
    "\n",
    "\n",
    "    if player_value > 21:\n",
    "        print(\"Player busts! Dealer wins.\")\n",
    "        return True\n",
    "    elif dealer_value > 21:\n",
    "        print(\"Dealer busts! Player wins.\")\n",
    "        return True\n",
    "    elif player_value == 21 and len(player_hand) == 2:\n",
    "        print(\"Blackjack! Player wins!\")\n",
    "        return True\n",
    "    elif dealer_value == 21 and len(dealer_hand) == 2:\n",
    "        print(\"Dealer has Blackjack! Dealer wins.\")\n",
    "        return True\n",
    "    elif dealer_value >= 17 and dealer_value >= player_value:\n",
    "        print(\"Dealer wins.\")\n",
    "        return True\n",
    "    elif dealer_value >= 17 and dealer_value < player_value:\n",
    "        print(\"Player wins.\")\n",
    "        return True\n",
    "\n",
    "    return False"
   ],
   "metadata": {
    "id": "PeNGBNxeMwWH",
    "executionInfo": {
     "status": "ok",
     "timestamp": 1741233059269,
     "user_tz": 300,
     "elapsed": 8,
     "user": {
      "displayName": "Moyukh Chatterjee _ Student - GreenHopeHS",
      "userId": "03938706943562327970"
     }
    }
   },
   "id": "PeNGBNxeMwWH",
   "outputs": [],
   "execution_count": null
  },
  {
   "cell_type": "code",
   "source": [
    "def blackjack_game():\n",
    "\n",
    "    game_end = False\n",
    "    deck = setup_card_deck()\n",
    "    player_hand, dealer_hand = initial_draw_dealer_player(deck)\n",
    "\n",
    "\n",
    "    # Player draws cards\n",
    "    pick_or_stand = \"\"\n",
    "    while pick_or_stand.lower() != \"stand\" and not game_end:\n",
    "\n",
    "        pick_or_stand = input(\"Would you like to hit or stand: \")\n",
    "\n",
    "        if pick_or_stand.lower() == \"hit\":\n",
    "            draw_card_and_show(deck, player_hand)\n",
    "            game_end = check_winner(dealer_hand, player_hand)\n",
    "            if game_end:\n",
    "                return\n",
    "\n",
    "        elif pick_or_stand.lower() == \"stand\":\n",
    "            pass\n",
    "\n",
    "        else:\n",
    "            print( pick_or_stand + \" is not a input option!!\")\n",
    "\n",
    "    # Dealer draws cards\n",
    "    print(\"Dealer shows:\")\n",
    "    while not game_end:\n",
    "        draw_card_and_show(deck, dealer_hand)\n",
    "        game_end = check_winner(dealer_hand, player_hand)\n",
    "        if game_end:\n",
    "            return\n",
    "\n",
    "        if calculate_hand_value(dealer_hand) > 17:\n",
    "            game_end = True\n",
    "            check_winner(dealer_hand, player_hand)\n"
   ],
   "metadata": {
    "id": "sj69XkyVBjR0",
    "colab": {
     "base_uri": "https://localhost:8080/"
    },
    "executionInfo": {
     "status": "ok",
     "timestamp": 1741233104517,
     "user_tz": 300,
     "elapsed": 22794,
     "user": {
      "displayName": "Moyukh Chatterjee _ Student - GreenHopeHS",
      "userId": "03938706943562327970"
     }
    },
    "outputId": "1a70bee8-0697-45dc-c462-226b613c93c0"
   },
   "id": "65189774e26f4b5b",
   "outputs": [],
   "execution_count": null
  },
  {
   "metadata": {},
   "cell_type": "code",
   "source": "blackjack_game()",
   "id": "sj69XkyVBjR0",
   "outputs": [],
   "execution_count": null
  },
  {
   "metadata": {},
   "cell_type": "code",
   "source": "",
   "id": "aec85cfca605182",
   "outputs": [],
   "execution_count": null
  }
 ],
 "metadata": {
  "kernelspec": {
   "display_name": "Python 3",
   "language": "python",
   "name": "python3"
  },
  "language_info": {
   "codemirror_mode": {
    "name": "ipython",
    "version": 2
   },
   "file_extension": ".py",
   "mimetype": "text/x-python",
   "name": "python",
   "nbconvert_exporter": "python",
   "pygments_lexer": "ipython2",
   "version": "2.7.6"
  },
  "colab": {
   "provenance": []
  }
 },
 "nbformat": 4,
 "nbformat_minor": 5
}
